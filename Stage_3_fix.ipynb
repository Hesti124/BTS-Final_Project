{
 "cells": [
  {
   "cell_type": "markdown",
   "metadata": {
    "id": "H91wrcFqvrBb"
   },
   "source": [
    "# Marketing Campaign"
   ]
  },
  {
   "cell_type": "code",
   "execution_count": 1,
   "metadata": {
    "colab": {
     "base_uri": "https://localhost:8080/"
    },
    "id": "5Ub5j22-pwTt",
    "outputId": "bd8992ad-3253-44ec-daa0-5656a3156868"
   },
   "outputs": [],
   "source": [
    "import pandas as pd\n",
    "import numpy as np\n",
    "import matplotlib\n",
    "import matplotlib.pyplot as plt\n",
    "import seaborn as sns\n",
    "import statsmodels.stats.proportion as sp\n",
    "import scipy.stats as st"
   ]
  },
  {
   "cell_type": "code",
   "execution_count": 2,
   "metadata": {
    "id": "6K6CG78v_evV"
   },
   "outputs": [],
   "source": [
    "from sklearn.metrics import accuracy_score, precision_score, recall_score, f1_score, roc_auc_score\n",
    "\n",
    "def eval_classification(model, xtrain, ytrain, xtest, ytest):\n",
    "    ypred = model.predict(xtest)\n",
    "    print(\"Accuracy (Test Set): %.2f\" % accuracy_score(ytest, ypred))\n",
    "    print(\"Precision (Test Set): %.2f\" % precision_score(ytest, ypred))\n",
    "    print(\"Recall (Test Set): %.2f\" % recall_score(ytest, ypred))\n",
    "    print(\"F1-Score (Test Set): %.2f\" % f1_score(ytest, ypred))\n",
    "    \n",
    "    y_pred_proba = model.predict_proba(xtest)\n",
    "    print(\"AUC: %.2f\" % roc_auc_score(ytest, y_pred_proba[:, 1]))\n",
    "    \n",
    "def show_feature_importance(model):\n",
    "    feat_importances = pd.Series(model.feature_importances_, index=X.columns)\n",
    "    ax = feat_importances.nlargest(25).plot(kind='barh', figsize=(10, 8))\n",
    "    ax.invert_yaxis()\n",
    "\n",
    "    plt.xlabel('score')\n",
    "    plt.ylabel('feature')\n",
    "    plt.title('feature importance score')\n",
    "\n",
    "def show_best_hyperparameter(model, hyperparameters):\n",
    "    for key, value in hyperparameters.items() :\n",
    "        print('Best '+key+':', model.get_params()[key])"
   ]
  },
  {
   "cell_type": "code",
   "execution_count": 4,
   "metadata": {
    "colab": {
     "base_uri": "https://localhost:8080/",
     "height": 299
    },
    "id": "fTYvCll5xqWA",
    "outputId": "076d450e-30de-4c94-f62d-d5c491ab0be9"
   },
   "outputs": [
    {
     "data": {
      "text/html": [
       "<div>\n",
       "<style scoped>\n",
       "    .dataframe tbody tr th:only-of-type {\n",
       "        vertical-align: middle;\n",
       "    }\n",
       "\n",
       "    .dataframe tbody tr th {\n",
       "        vertical-align: top;\n",
       "    }\n",
       "\n",
       "    .dataframe thead th {\n",
       "        text-align: right;\n",
       "    }\n",
       "</style>\n",
       "<table border=\"1\" class=\"dataframe\">\n",
       "  <thead>\n",
       "    <tr style=\"text-align: right;\">\n",
       "      <th></th>\n",
       "      <th>ID</th>\n",
       "      <th>Year_Birth</th>\n",
       "      <th>Education</th>\n",
       "      <th>Marital_Status</th>\n",
       "      <th>Income</th>\n",
       "      <th>Kidhome</th>\n",
       "      <th>Teenhome</th>\n",
       "      <th>Dt_Customer</th>\n",
       "      <th>Recency</th>\n",
       "      <th>MntWines</th>\n",
       "      <th>...</th>\n",
       "      <th>NumWebVisitsMonth</th>\n",
       "      <th>AcceptedCmp3</th>\n",
       "      <th>AcceptedCmp4</th>\n",
       "      <th>AcceptedCmp5</th>\n",
       "      <th>AcceptedCmp1</th>\n",
       "      <th>AcceptedCmp2</th>\n",
       "      <th>Complain</th>\n",
       "      <th>Z_CostContact</th>\n",
       "      <th>Z_Revenue</th>\n",
       "      <th>Response</th>\n",
       "    </tr>\n",
       "  </thead>\n",
       "  <tbody>\n",
       "    <tr>\n",
       "      <th>0</th>\n",
       "      <td>5524</td>\n",
       "      <td>1957</td>\n",
       "      <td>Graduation</td>\n",
       "      <td>Single</td>\n",
       "      <td>58138.0</td>\n",
       "      <td>0</td>\n",
       "      <td>0</td>\n",
       "      <td>2012-09-04</td>\n",
       "      <td>58</td>\n",
       "      <td>635</td>\n",
       "      <td>...</td>\n",
       "      <td>7</td>\n",
       "      <td>0</td>\n",
       "      <td>0</td>\n",
       "      <td>0</td>\n",
       "      <td>0</td>\n",
       "      <td>0</td>\n",
       "      <td>0</td>\n",
       "      <td>3</td>\n",
       "      <td>11</td>\n",
       "      <td>1</td>\n",
       "    </tr>\n",
       "    <tr>\n",
       "      <th>1</th>\n",
       "      <td>2174</td>\n",
       "      <td>1954</td>\n",
       "      <td>Graduation</td>\n",
       "      <td>Single</td>\n",
       "      <td>46344.0</td>\n",
       "      <td>1</td>\n",
       "      <td>1</td>\n",
       "      <td>2014-03-08</td>\n",
       "      <td>38</td>\n",
       "      <td>11</td>\n",
       "      <td>...</td>\n",
       "      <td>5</td>\n",
       "      <td>0</td>\n",
       "      <td>0</td>\n",
       "      <td>0</td>\n",
       "      <td>0</td>\n",
       "      <td>0</td>\n",
       "      <td>0</td>\n",
       "      <td>3</td>\n",
       "      <td>11</td>\n",
       "      <td>0</td>\n",
       "    </tr>\n",
       "    <tr>\n",
       "      <th>2</th>\n",
       "      <td>4141</td>\n",
       "      <td>1965</td>\n",
       "      <td>Graduation</td>\n",
       "      <td>Together</td>\n",
       "      <td>71613.0</td>\n",
       "      <td>0</td>\n",
       "      <td>0</td>\n",
       "      <td>2013-08-21</td>\n",
       "      <td>26</td>\n",
       "      <td>426</td>\n",
       "      <td>...</td>\n",
       "      <td>4</td>\n",
       "      <td>0</td>\n",
       "      <td>0</td>\n",
       "      <td>0</td>\n",
       "      <td>0</td>\n",
       "      <td>0</td>\n",
       "      <td>0</td>\n",
       "      <td>3</td>\n",
       "      <td>11</td>\n",
       "      <td>0</td>\n",
       "    </tr>\n",
       "    <tr>\n",
       "      <th>3</th>\n",
       "      <td>6182</td>\n",
       "      <td>1984</td>\n",
       "      <td>Graduation</td>\n",
       "      <td>Together</td>\n",
       "      <td>26646.0</td>\n",
       "      <td>1</td>\n",
       "      <td>0</td>\n",
       "      <td>2014-02-10</td>\n",
       "      <td>26</td>\n",
       "      <td>11</td>\n",
       "      <td>...</td>\n",
       "      <td>6</td>\n",
       "      <td>0</td>\n",
       "      <td>0</td>\n",
       "      <td>0</td>\n",
       "      <td>0</td>\n",
       "      <td>0</td>\n",
       "      <td>0</td>\n",
       "      <td>3</td>\n",
       "      <td>11</td>\n",
       "      <td>0</td>\n",
       "    </tr>\n",
       "    <tr>\n",
       "      <th>4</th>\n",
       "      <td>5324</td>\n",
       "      <td>1981</td>\n",
       "      <td>PhD</td>\n",
       "      <td>Married</td>\n",
       "      <td>58293.0</td>\n",
       "      <td>1</td>\n",
       "      <td>0</td>\n",
       "      <td>2014-01-19</td>\n",
       "      <td>94</td>\n",
       "      <td>173</td>\n",
       "      <td>...</td>\n",
       "      <td>5</td>\n",
       "      <td>0</td>\n",
       "      <td>0</td>\n",
       "      <td>0</td>\n",
       "      <td>0</td>\n",
       "      <td>0</td>\n",
       "      <td>0</td>\n",
       "      <td>3</td>\n",
       "      <td>11</td>\n",
       "      <td>0</td>\n",
       "    </tr>\n",
       "  </tbody>\n",
       "</table>\n",
       "<p>5 rows × 29 columns</p>\n",
       "</div>"
      ],
      "text/plain": [
       "     ID  Year_Birth   Education Marital_Status   Income  Kidhome  Teenhome  \\\n",
       "0  5524        1957  Graduation         Single  58138.0        0         0   \n",
       "1  2174        1954  Graduation         Single  46344.0        1         1   \n",
       "2  4141        1965  Graduation       Together  71613.0        0         0   \n",
       "3  6182        1984  Graduation       Together  26646.0        1         0   \n",
       "4  5324        1981         PhD        Married  58293.0        1         0   \n",
       "\n",
       "  Dt_Customer  Recency  MntWines  ...  NumWebVisitsMonth  AcceptedCmp3  \\\n",
       "0  2012-09-04       58       635  ...                  7             0   \n",
       "1  2014-03-08       38        11  ...                  5             0   \n",
       "2  2013-08-21       26       426  ...                  4             0   \n",
       "3  2014-02-10       26        11  ...                  6             0   \n",
       "4  2014-01-19       94       173  ...                  5             0   \n",
       "\n",
       "   AcceptedCmp4  AcceptedCmp5  AcceptedCmp1  AcceptedCmp2  Complain  \\\n",
       "0             0             0             0             0         0   \n",
       "1             0             0             0             0         0   \n",
       "2             0             0             0             0         0   \n",
       "3             0             0             0             0         0   \n",
       "4             0             0             0             0         0   \n",
       "\n",
       "   Z_CostContact  Z_Revenue  Response  \n",
       "0              3         11         1  \n",
       "1              3         11         0  \n",
       "2              3         11         0  \n",
       "3              3         11         0  \n",
       "4              3         11         0  \n",
       "\n",
       "[5 rows x 29 columns]"
      ]
     },
     "execution_count": 4,
     "metadata": {},
     "output_type": "execute_result"
    }
   ],
   "source": [
    "df = pd.read_csv('dataset/marketing_campaign.csv', sep= ';')\n",
    "df.head()"
   ]
  },
  {
   "cell_type": "code",
   "execution_count": 5,
   "metadata": {
    "colab": {
     "base_uri": "https://localhost:8080/"
    },
    "id": "H1TTMtpX-9v7",
    "outputId": "6db38937-0b21-438c-a077-d87c68bc94ca"
   },
   "outputs": [
    {
     "data": {
      "text/plain": [
       "ID                              int64\n",
       "Year_Birth                      int64\n",
       "Education                      object\n",
       "Marital_Status                 object\n",
       "Income                        float64\n",
       "Kidhome                         int64\n",
       "Teenhome                        int64\n",
       "Dt_Customer            datetime64[ns]\n",
       "Recency                         int64\n",
       "MntWines                        int64\n",
       "MntFruits                       int64\n",
       "MntMeatProducts                 int64\n",
       "MntFishProducts                 int64\n",
       "MntSweetProducts                int64\n",
       "MntGoldProds                    int64\n",
       "NumDealsPurchases               int64\n",
       "NumWebPurchases                 int64\n",
       "NumCatalogPurchases             int64\n",
       "NumStorePurchases               int64\n",
       "NumWebVisitsMonth               int64\n",
       "AcceptedCmp3                    int64\n",
       "AcceptedCmp4                    int64\n",
       "AcceptedCmp5                    int64\n",
       "AcceptedCmp1                    int64\n",
       "AcceptedCmp2                    int64\n",
       "Complain                        int64\n",
       "Z_CostContact                   int64\n",
       "Z_Revenue                       int64\n",
       "Response                        int64\n",
       "dtype: object"
      ]
     },
     "execution_count": 5,
     "metadata": {},
     "output_type": "execute_result"
    }
   ],
   "source": [
    "df.Dt_Customer = pd.to_datetime(df.Dt_Customer)\n",
    "df.dtypes"
   ]
  },
  {
   "cell_type": "code",
   "execution_count": 6,
   "metadata": {
    "id": "TxnAWYSy_qpI"
   },
   "outputs": [],
   "source": [
    "df['month_Customer'] = (2014 - df.Dt_Customer.dt.year)*12 + df.Dt_Customer.dt.month\n",
    "df['Spending']=df['MntWines']+df['MntFruits']+df['MntMeatProducts']+df['MntFishProducts']+df['MntSweetProducts']+df['MntGoldProds']\n",
    "df['Total_Cmp']=df['AcceptedCmp1']+df['AcceptedCmp2']+df['AcceptedCmp3']+df['AcceptedCmp4']+df['AcceptedCmp5']"
   ]
  },
  {
   "cell_type": "code",
   "execution_count": 7,
   "metadata": {
    "id": "WWsqM4sr_tjR"
   },
   "outputs": [],
   "source": [
    "df['Marital_Status']=df['Marital_Status'].replace({'Married':'Couple','Together':'Couple','Absurd':'Single',\n",
    "                                                      'Widow':'Divorced','YOLO':'Single', 'Alone':'Single'})"
   ]
  },
  {
   "cell_type": "code",
   "execution_count": 8,
   "metadata": {
    "colab": {
     "base_uri": "https://localhost:8080/"
    },
    "id": "adz-RJuB_urG",
    "outputId": "18878e97-0223-4795-f98b-aa62ac73424c"
   },
   "outputs": [
    {
     "name": "stdout",
     "output_type": "stream",
     "text": [
      "value counts of column Education\n",
      "Graduation    1127\n",
      "PhD            486\n",
      "Master         370\n",
      "2n Cycle       203\n",
      "Basic           54\n",
      "Name: Education, dtype: int64\n",
      "------------------------------ \n",
      "\n",
      "value counts of column Marital_Status\n",
      "Couple      1444\n",
      "Single       487\n",
      "Divorced     309\n",
      "Name: Marital_Status, dtype: int64\n",
      "------------------------------ \n",
      "\n"
     ]
    }
   ],
   "source": [
    "cats_updated = ['Education', 'Marital_Status']\n",
    "\n",
    "for col in cats_updated:\n",
    "    print(f'value counts of column {col}')\n",
    "    print(df[col].value_counts())\n",
    "    print('---'*10, '\\n')"
   ]
  },
  {
   "cell_type": "code",
   "execution_count": 9,
   "metadata": {
    "colab": {
     "base_uri": "https://localhost:8080/",
     "height": 299
    },
    "id": "R3fTjcFp_wls",
    "outputId": "05cd0e7a-ae05-46d2-f6c5-6b5d78b66521"
   },
   "outputs": [
    {
     "data": {
      "text/html": [
       "<div>\n",
       "<style scoped>\n",
       "    .dataframe tbody tr th:only-of-type {\n",
       "        vertical-align: middle;\n",
       "    }\n",
       "\n",
       "    .dataframe tbody tr th {\n",
       "        vertical-align: top;\n",
       "    }\n",
       "\n",
       "    .dataframe thead th {\n",
       "        text-align: right;\n",
       "    }\n",
       "</style>\n",
       "<table border=\"1\" class=\"dataframe\">\n",
       "  <thead>\n",
       "    <tr style=\"text-align: right;\">\n",
       "      <th></th>\n",
       "      <th>ID</th>\n",
       "      <th>Year_Birth</th>\n",
       "      <th>Education</th>\n",
       "      <th>Marital_Status</th>\n",
       "      <th>Income</th>\n",
       "      <th>Kidhome</th>\n",
       "      <th>Teenhome</th>\n",
       "      <th>Dt_Customer</th>\n",
       "      <th>Recency</th>\n",
       "      <th>MntWines</th>\n",
       "      <th>...</th>\n",
       "      <th>AcceptedCmp2</th>\n",
       "      <th>Complain</th>\n",
       "      <th>Z_CostContact</th>\n",
       "      <th>Z_Revenue</th>\n",
       "      <th>Response</th>\n",
       "      <th>month_Customer</th>\n",
       "      <th>Spending</th>\n",
       "      <th>Total_Cmp</th>\n",
       "      <th>Has_child</th>\n",
       "      <th>Segmentasi</th>\n",
       "    </tr>\n",
       "  </thead>\n",
       "  <tbody>\n",
       "    <tr>\n",
       "      <th>2235</th>\n",
       "      <td>10870</td>\n",
       "      <td>1967</td>\n",
       "      <td>Graduation</td>\n",
       "      <td>Couple</td>\n",
       "      <td>61223.0</td>\n",
       "      <td>0</td>\n",
       "      <td>1</td>\n",
       "      <td>2013-06-13</td>\n",
       "      <td>46</td>\n",
       "      <td>709</td>\n",
       "      <td>...</td>\n",
       "      <td>0</td>\n",
       "      <td>0</td>\n",
       "      <td>3</td>\n",
       "      <td>11</td>\n",
       "      <td>0</td>\n",
       "      <td>18</td>\n",
       "      <td>1341</td>\n",
       "      <td>0</td>\n",
       "      <td>Yes</td>\n",
       "      <td>Medium</td>\n",
       "    </tr>\n",
       "    <tr>\n",
       "      <th>2236</th>\n",
       "      <td>4001</td>\n",
       "      <td>1946</td>\n",
       "      <td>PhD</td>\n",
       "      <td>Couple</td>\n",
       "      <td>64014.0</td>\n",
       "      <td>2</td>\n",
       "      <td>1</td>\n",
       "      <td>2014-06-10</td>\n",
       "      <td>56</td>\n",
       "      <td>406</td>\n",
       "      <td>...</td>\n",
       "      <td>0</td>\n",
       "      <td>0</td>\n",
       "      <td>3</td>\n",
       "      <td>11</td>\n",
       "      <td>0</td>\n",
       "      <td>6</td>\n",
       "      <td>444</td>\n",
       "      <td>1</td>\n",
       "      <td>Yes</td>\n",
       "      <td>Medium</td>\n",
       "    </tr>\n",
       "    <tr>\n",
       "      <th>2237</th>\n",
       "      <td>7270</td>\n",
       "      <td>1981</td>\n",
       "      <td>Graduation</td>\n",
       "      <td>Divorced</td>\n",
       "      <td>56981.0</td>\n",
       "      <td>0</td>\n",
       "      <td>0</td>\n",
       "      <td>2014-01-25</td>\n",
       "      <td>91</td>\n",
       "      <td>908</td>\n",
       "      <td>...</td>\n",
       "      <td>0</td>\n",
       "      <td>0</td>\n",
       "      <td>3</td>\n",
       "      <td>11</td>\n",
       "      <td>0</td>\n",
       "      <td>1</td>\n",
       "      <td>1241</td>\n",
       "      <td>1</td>\n",
       "      <td>No</td>\n",
       "      <td>Medium</td>\n",
       "    </tr>\n",
       "    <tr>\n",
       "      <th>2238</th>\n",
       "      <td>8235</td>\n",
       "      <td>1956</td>\n",
       "      <td>Master</td>\n",
       "      <td>Couple</td>\n",
       "      <td>69245.0</td>\n",
       "      <td>0</td>\n",
       "      <td>1</td>\n",
       "      <td>2014-01-24</td>\n",
       "      <td>8</td>\n",
       "      <td>428</td>\n",
       "      <td>...</td>\n",
       "      <td>0</td>\n",
       "      <td>0</td>\n",
       "      <td>3</td>\n",
       "      <td>11</td>\n",
       "      <td>0</td>\n",
       "      <td>1</td>\n",
       "      <td>843</td>\n",
       "      <td>0</td>\n",
       "      <td>Yes</td>\n",
       "      <td>High</td>\n",
       "    </tr>\n",
       "    <tr>\n",
       "      <th>2239</th>\n",
       "      <td>9405</td>\n",
       "      <td>1954</td>\n",
       "      <td>PhD</td>\n",
       "      <td>Couple</td>\n",
       "      <td>52869.0</td>\n",
       "      <td>1</td>\n",
       "      <td>1</td>\n",
       "      <td>2012-10-15</td>\n",
       "      <td>40</td>\n",
       "      <td>84</td>\n",
       "      <td>...</td>\n",
       "      <td>0</td>\n",
       "      <td>0</td>\n",
       "      <td>3</td>\n",
       "      <td>11</td>\n",
       "      <td>1</td>\n",
       "      <td>34</td>\n",
       "      <td>172</td>\n",
       "      <td>0</td>\n",
       "      <td>Yes</td>\n",
       "      <td>Medium</td>\n",
       "    </tr>\n",
       "  </tbody>\n",
       "</table>\n",
       "<p>5 rows × 34 columns</p>\n",
       "</div>"
      ],
      "text/plain": [
       "         ID  Year_Birth   Education Marital_Status   Income  Kidhome  \\\n",
       "2235  10870        1967  Graduation         Couple  61223.0        0   \n",
       "2236   4001        1946         PhD         Couple  64014.0        2   \n",
       "2237   7270        1981  Graduation       Divorced  56981.0        0   \n",
       "2238   8235        1956      Master         Couple  69245.0        0   \n",
       "2239   9405        1954         PhD         Couple  52869.0        1   \n",
       "\n",
       "      Teenhome Dt_Customer  Recency  MntWines  ...  AcceptedCmp2  Complain  \\\n",
       "2235         1  2013-06-13       46       709  ...             0         0   \n",
       "2236         1  2014-06-10       56       406  ...             0         0   \n",
       "2237         0  2014-01-25       91       908  ...             0         0   \n",
       "2238         1  2014-01-24        8       428  ...             0         0   \n",
       "2239         1  2012-10-15       40        84  ...             0         0   \n",
       "\n",
       "      Z_CostContact  Z_Revenue  Response  month_Customer  Spending  Total_Cmp  \\\n",
       "2235              3         11         0              18      1341          0   \n",
       "2236              3         11         0               6       444          1   \n",
       "2237              3         11         0               1      1241          1   \n",
       "2238              3         11         0               1       843          0   \n",
       "2239              3         11         1              34       172          0   \n",
       "\n",
       "      Has_child  Segmentasi  \n",
       "2235        Yes      Medium  \n",
       "2236        Yes      Medium  \n",
       "2237         No      Medium  \n",
       "2238        Yes        High  \n",
       "2239        Yes      Medium  \n",
       "\n",
       "[5 rows x 34 columns]"
      ]
     },
     "execution_count": 9,
     "metadata": {},
     "output_type": "execute_result"
    }
   ],
   "source": [
    "df['Has_child'] = np.where(df.Kidhome+df.Teenhome > 0, 'Yes', 'No')\n",
    "\n",
    "Q1 = df.Income.quantile(.25)\n",
    "Q3 = df.Income.quantile(.75)\n",
    "\n",
    "def segment(x):\n",
    "    try:\n",
    "        x.Income.isnumeric()\n",
    "    except:\n",
    "        segment = 'No Sales'\n",
    "    if x.Income >= Q3:\n",
    "        segment = 'High'\n",
    "    elif x.Income < Q3 and x.Income >= Q1:\n",
    "        segment = 'Medium'\n",
    "    else:\n",
    "        segment = 'Low'\n",
    "    return segment\n",
    "\n",
    "df['Segmentasi'] = df.apply(lambda x: segment(x), axis = 1)\n",
    "df.tail()"
   ]
  },
  {
   "cell_type": "code",
   "execution_count": 10,
   "metadata": {
    "id": "UW4wybiO_2c0"
   },
   "outputs": [],
   "source": [
    "segment = {\n",
    "    'Low' : 0,\n",
    "    'Medium' : 1,\n",
    "    'High' : 2\n",
    "}\n",
    "mapping_child = {\n",
    "    'No' : 0,\n",
    "    'Yes' : 1\n",
    "}\n",
    "mapping_pendidikan = {\n",
    "    'Basic' : 0,\n",
    "    '2n Cycle' : 1,\n",
    "    'Graduation' : 2,\n",
    "    'Master' : 3,\n",
    "    'PhD' : 4,\n",
    "}\n",
    "\n",
    "df['Segmentasi'] = df['Segmentasi'].map(segment)\n",
    "df['Education'] = df['Education'].map(mapping_pendidikan)\n",
    "df['Has_child'] = df['Has_child'].map(mapping_child)"
   ]
  },
  {
   "cell_type": "code",
   "execution_count": 11,
   "metadata": {
    "id": "y8bM-d_lmc52"
   },
   "outputs": [],
   "source": [
    "for cat in ['Marital_Status']:\n",
    "    onehots = pd.get_dummies(df[cat], prefix='MS')\n",
    "    df = df.join(onehots)"
   ]
  },
  {
   "cell_type": "code",
   "execution_count": 12,
   "metadata": {
    "colab": {
     "base_uri": "https://localhost:8080/"
    },
    "id": "03bTwbQ5AAtW",
    "outputId": "6d3cc45f-7c14-4423-84f3-978d6ef36618"
   },
   "outputs": [
    {
     "name": "stdout",
     "output_type": "stream",
     "text": [
      "<class 'pandas.core.frame.DataFrame'>\n",
      "Int64Index: 2216 entries, 0 to 2239\n",
      "Data columns (total 37 columns):\n",
      " #   Column               Non-Null Count  Dtype         \n",
      "---  ------               --------------  -----         \n",
      " 0   ID                   2216 non-null   int64         \n",
      " 1   Year_Birth           2216 non-null   int64         \n",
      " 2   Education            2216 non-null   int64         \n",
      " 3   Marital_Status       2216 non-null   object        \n",
      " 4   Income               2216 non-null   float64       \n",
      " 5   Kidhome              2216 non-null   int64         \n",
      " 6   Teenhome             2216 non-null   int64         \n",
      " 7   Dt_Customer          2216 non-null   datetime64[ns]\n",
      " 8   Recency              2216 non-null   int64         \n",
      " 9   MntWines             2216 non-null   int64         \n",
      " 10  MntFruits            2216 non-null   int64         \n",
      " 11  MntMeatProducts      2216 non-null   int64         \n",
      " 12  MntFishProducts      2216 non-null   int64         \n",
      " 13  MntSweetProducts     2216 non-null   int64         \n",
      " 14  MntGoldProds         2216 non-null   int64         \n",
      " 15  NumDealsPurchases    2216 non-null   int64         \n",
      " 16  NumWebPurchases      2216 non-null   int64         \n",
      " 17  NumCatalogPurchases  2216 non-null   int64         \n",
      " 18  NumStorePurchases    2216 non-null   int64         \n",
      " 19  NumWebVisitsMonth    2216 non-null   int64         \n",
      " 20  AcceptedCmp3         2216 non-null   int64         \n",
      " 21  AcceptedCmp4         2216 non-null   int64         \n",
      " 22  AcceptedCmp5         2216 non-null   int64         \n",
      " 23  AcceptedCmp1         2216 non-null   int64         \n",
      " 24  AcceptedCmp2         2216 non-null   int64         \n",
      " 25  Complain             2216 non-null   int64         \n",
      " 26  Z_CostContact        2216 non-null   int64         \n",
      " 27  Z_Revenue            2216 non-null   int64         \n",
      " 28  Response             2216 non-null   int64         \n",
      " 29  month_Customer       2216 non-null   int64         \n",
      " 30  Spending             2216 non-null   int64         \n",
      " 31  Total_Cmp            2216 non-null   int64         \n",
      " 32  Has_child            2216 non-null   int64         \n",
      " 33  Segmentasi           2216 non-null   int64         \n",
      " 34  MS_Couple            2216 non-null   uint8         \n",
      " 35  MS_Divorced          2216 non-null   uint8         \n",
      " 36  MS_Single            2216 non-null   uint8         \n",
      "dtypes: datetime64[ns](1), float64(1), int64(31), object(1), uint8(3)\n",
      "memory usage: 612.4+ KB\n"
     ]
    }
   ],
   "source": [
    "df = df.dropna()\n",
    "df.info()"
   ]
  },
  {
   "cell_type": "markdown",
   "metadata": {
    "id": "4-laXahXAQVW"
   },
   "source": [
    "## SMOTE"
   ]
  },
  {
   "cell_type": "code",
   "execution_count": 13,
   "metadata": {
    "id": "KIKDRABrASR4"
   },
   "outputs": [],
   "source": [
    "X = df.drop(columns=['Response','Z_CostContact','Z_Revenue',\n",
    "                     'ID','Year_Birth','Dt_Customer','Marital_Status', 'Teenhome','Kidhome' ])\n",
    "y = df['Response'] # target / label"
   ]
  },
  {
   "cell_type": "code",
   "execution_count": 14,
   "metadata": {
    "id": "-RkZMPaCASmU"
   },
   "outputs": [],
   "source": [
    "#Splitting the data into Train and Test\n",
    "from sklearn.model_selection import train_test_split \n",
    "X_train, X_test, y_train, y_test = train_test_split(X, y, test_size = 0.3, random_state = 666)"
   ]
  },
  {
   "cell_type": "code",
   "execution_count": 15,
   "metadata": {
    "colab": {
     "base_uri": "https://localhost:8080/"
    },
    "id": "0w64xDSFAacR",
    "outputId": "8c36673c-49ab-43c1-9269-3d6b47f11fa0"
   },
   "outputs": [
    {
     "name": "stderr",
     "output_type": "stream",
     "text": [
      "C:\\ProgramData\\Anaconda3\\lib\\site-packages\\imblearn\\utils\\_validation.py:586: FutureWarning: Pass sampling_strategy=0.5 as keyword args. From version 0.9 passing these as positional arguments will result in an error\n",
      "  warnings.warn(\n"
     ]
    },
    {
     "name": "stdout",
     "output_type": "stream",
     "text": [
      "SMOTE\n",
      "0    1314\n",
      "1     657\n",
      "Name: Response, dtype: int64\n"
     ]
    }
   ],
   "source": [
    "from imblearn import under_sampling, over_sampling\n",
    "X_over_SMOTE, y_over_SMOTE = over_sampling.SMOTE(0.5, random_state = 666).fit_resample(X_train, y_train)\n",
    "print('SMOTE')\n",
    "print(pd.Series(y_over_SMOTE).value_counts())"
   ]
  },
  {
   "cell_type": "markdown",
   "metadata": {
    "id": "d8RJTR37AL2R"
   },
   "source": [
    "## Adaboost"
   ]
  },
  {
   "cell_type": "code",
   "execution_count": 16,
   "metadata": {
    "colab": {
     "base_uri": "https://localhost:8080/"
    },
    "id": "TEFPyayBADqX",
    "outputId": "c3365e21-bc38-463c-cb57-410ba9b712ac"
   },
   "outputs": [
    {
     "name": "stdout",
     "output_type": "stream",
     "text": [
      "Accuracy (Test Set): 0.89\n",
      "Precision (Test Set): 0.60\n",
      "Recall (Test Set): 0.70\n",
      "F1-Score (Test Set): 0.64\n",
      "AUC: 0.93\n"
     ]
    }
   ],
   "source": [
    "from sklearn.ensemble import AdaBoostClassifier\n",
    "ab = AdaBoostClassifier(random_state=666)\n",
    "ab.fit(X_over_SMOTE,y_over_SMOTE)\n",
    "\n",
    "y_pred = ab.predict(X_test)\n",
    "eval_classification(ab, X_over_SMOTE, y_over_SMOTE, X_test, y_test)"
   ]
  },
  {
   "cell_type": "code",
   "execution_count": 17,
   "metadata": {
    "colab": {
     "base_uri": "https://localhost:8080/"
    },
    "id": "VTH0te39AeME",
    "outputId": "ce621c02-b51d-4e62-9378-9c1662495cd1"
   },
   "outputs": [
    {
     "name": "stdout",
     "output_type": "stream",
     "text": [
      "Train score: 0.8792491121258245\n",
      "Test score:0.8887218045112782\n"
     ]
    }
   ],
   "source": [
    "print('Train score: ' + str(ab.score(X_over_SMOTE, y_over_SMOTE))) #accuracy\n",
    "print('Test score:' + str(ab.score(X_test, y_test))) #accuracy"
   ]
  },
  {
   "cell_type": "code",
   "execution_count": 18,
   "metadata": {
    "colab": {
     "base_uri": "https://localhost:8080/",
     "height": 513
    },
    "id": "tBcCM23JAhja",
    "outputId": "82a9c40d-8f50-4c29-9d3b-b21f73e98300"
   },
   "outputs": [
    {
     "data": {
      "image/png": "[encoded data removed]",
      "text/plain": [
       "<Figure size 720x576 with 1 Axes>"
      ]
     },
     "metadata": {
      "needs_background": "light"
     },
     "output_type": "display_data"
    }
   ],
   "source": [
    "show_feature_importance(ab)"
   ]
  },
  {
   "cell_type": "code",
   "execution_count": 19,
   "metadata": {
    "colab": {
     "base_uri": "https://localhost:8080/"
    },
    "id": "xs0MR8G6ed5O",
    "outputId": "03f663a1-e9a7-4e6b-bea9-538c1def45fb"
   },
   "outputs": [
    {
     "name": "stdout",
     "output_type": "stream",
     "text": [
      "<class 'pandas.core.frame.DataFrame'>\n",
      "Int64Index: 2216 entries, 0 to 2239\n",
      "Data columns (total 28 columns):\n",
      " #   Column               Non-Null Count  Dtype  \n",
      "---  ------               --------------  -----  \n",
      " 0   Education            2216 non-null   int64  \n",
      " 1   Income               2216 non-null   float64\n",
      " 2   Recency              2216 non-null   int64  \n",
      " 3   MntWines             2216 non-null   int64  \n",
      " 4   MntFruits            2216 non-null   int64  \n",
      " 5   MntMeatProducts      2216 non-null   int64  \n",
      " 6   MntFishProducts      2216 non-null   int64  \n",
      " 7   MntSweetProducts     2216 non-null   int64  \n",
      " 8   MntGoldProds         2216 non-null   int64  \n",
      " 9   NumDealsPurchases    2216 non-null   int64  \n",
      " 10  NumWebPurchases      2216 non-null   int64  \n",
      " 11  NumCatalogPurchases  2216 non-null   int64  \n",
      " 12  NumStorePurchases    2216 non-null   int64  \n",
      " 13  NumWebVisitsMonth    2216 non-null   int64  \n",
      " 14  AcceptedCmp3         2216 non-null   int64  \n",
      " 15  AcceptedCmp4         2216 non-null   int64  \n",
      " 16  AcceptedCmp5         2216 non-null   int64  \n",
      " 17  AcceptedCmp1         2216 non-null   int64  \n",
      " 18  AcceptedCmp2         2216 non-null   int64  \n",
      " 19  Complain             2216 non-null   int64  \n",
      " 20  month_Customer       2216 non-null   int64  \n",
      " 21  Spending             2216 non-null   int64  \n",
      " 22  Total_Cmp            2216 non-null   int64  \n",
      " 23  Has_child            2216 non-null   int64  \n",
      " 24  Segmentasi           2216 non-null   int64  \n",
      " 25  MS_Couple            2216 non-null   uint8  \n",
      " 26  MS_Divorced          2216 non-null   uint8  \n",
      " 27  MS_Single            2216 non-null   uint8  \n",
      "dtypes: float64(1), int64(24), uint8(3)\n",
      "memory usage: 456.6 KB\n"
     ]
    }
   ],
   "source": [
    "X.info()"
   ]
  },
  {
   "cell_type": "markdown",
   "metadata": {
    "id": "le9EOGbLAoZK"
   },
   "source": [
    "## Tuning Hyperparameter"
   ]
  },
  {
   "cell_type": "code",
   "execution_count": 20,
   "metadata": {
    "colab": {
     "base_uri": "https://localhost:8080/"
    },
    "id": "BcNBvsNzAkiG",
    "outputId": "0ed804ea-edb5-45ac-fc1f-21219d0189f7"
   },
   "outputs": [
    {
     "name": "stdout",
     "output_type": "stream",
     "text": [
      "Accuracy (Test Set): 0.90\n",
      "Precision (Test Set): 0.66\n",
      "Recall (Test Set): 0.64\n",
      "F1-Score (Test Set): 0.65\n",
      "AUC: 0.94\n"
     ]
    }
   ],
   "source": [
    "from sklearn.model_selection import RandomizedSearchCV, GridSearchCV\n",
    "import numpy as np\n",
    "\n",
    "# List of hyperparameter\n",
    "hyperparameters = dict(n_estimators = [int(x) for x in np.linspace(start = 100, stop = 2000, num = 20)], # Jumlah iterasi\n",
    "                       learning_rate = [float(x) for x in np.linspace(start = 0.001, stop = 0.1, num = 20)],  \n",
    "                       algorithm = ['SAMME', 'SAMME.R']\n",
    "                      )\n",
    "\n",
    "# Init model\n",
    "ab = AdaBoostClassifier(random_state=666)\n",
    "ab_tuned = RandomizedSearchCV(ab, hyperparameters, random_state=666, cv=5, scoring='roc_auc')\n",
    "ab_tuned.fit(X_over_SMOTE,y_over_SMOTE)\n",
    "\n",
    "# Predict & Evaluation\n",
    "y_pred = ab_tuned.predict(X_test)#Check performa dari model\n",
    "eval_classification(ab_tuned, X_over_SMOTE, y_over_SMOTE, X_test, y_test)"
   ]
  },
  {
   "cell_type": "code",
   "execution_count": 21,
   "metadata": {
    "colab": {
     "base_uri": "https://localhost:8080/"
    },
    "id": "rLhK1dk1Arqy",
    "outputId": "f67fa183-141b-4d14-ca9b-114d0679e275"
   },
   "outputs": [
    {
     "name": "stdout",
     "output_type": "stream",
     "text": [
      "Train score: 0.9582583302637095\n",
      "Test score:0.936511423550088\n"
     ]
    }
   ],
   "source": [
    "print('Train score: ' + str(ab_tuned.score(X_over_SMOTE, y_over_SMOTE))) #accuracy\n",
    "print('Test score:' + str(ab_tuned.score(X_test, y_test))) #accuracy"
   ]
  },
  {
   "cell_type": "code",
   "execution_count": 22,
   "metadata": {
    "colab": {
     "base_uri": "https://localhost:8080/"
    },
    "id": "dmBbrslBAxrz",
    "outputId": "e0a7090e-2618-4d37-946f-2d25c0a65449"
   },
   "outputs": [
    {
     "name": "stdout",
     "output_type": "stream",
     "text": [
      "Best n_estimators: 1500\n",
      "Best learning_rate: 0.05831578947368421\n",
      "Best algorithm: SAMME.R\n"
     ]
    }
   ],
   "source": [
    "show_best_hyperparameter(ab_tuned.best_estimator_, hyperparameters)"
   ]
  },
  {
   "cell_type": "code",
   "execution_count": 23,
   "metadata": {
    "colab": {
     "base_uri": "https://localhost:8080/",
     "height": 513
    },
    "id": "AoQWobInA1uc",
    "outputId": "eff4f08d-d843-4bdf-d6cc-1719c35f2855"
   },
   "outputs": [
    {
     "data": {
      "image/png": "[encoded data removed]",
      "text/plain": [
       "<Figure size 720x576 with 1 Axes>"
      ]
     },
     "metadata": {
      "needs_background": "light"
     },
     "output_type": "display_data"
    }
   ],
   "source": [
    "show_feature_importance(ab_tuned.best_estimator_)"
   ]
  },
  {
   "cell_type": "markdown",
   "metadata": {
    "id": "DXD-Kpta8S9f"
   },
   "source": [
    "## Feature Importance"
   ]
  },
  {
   "cell_type": "code",
   "execution_count": 24,
   "metadata": {
    "id": "O4Bw1E09_Rx3"
   },
   "outputs": [],
   "source": [
    "X = df.drop(columns=['Response','Z_CostContact','Z_Revenue','AcceptedCmp4','AcceptedCmp3','Complain',\n",
    "                     'NumWebPurchases','AcceptedCmp5', 'AcceptedCmp1','Segmentasi', \n",
    "                     'ID','Year_Birth','Dt_Customer','Marital_Status', 'Teenhome','Kidhome' ])\n",
    "y = df['Response'] # target / label"
   ]
  },
  {
   "cell_type": "code",
   "execution_count": 25,
   "metadata": {
    "colab": {
     "base_uri": "https://localhost:8080/"
    },
    "id": "djF1RGEGj11K",
    "outputId": "50882f84-18dd-49ae-ac71-0d8e00324c0e"
   },
   "outputs": [
    {
     "name": "stdout",
     "output_type": "stream",
     "text": [
      "<class 'pandas.core.frame.DataFrame'>\n",
      "Int64Index: 2216 entries, 0 to 2239\n",
      "Data columns (total 21 columns):\n",
      " #   Column               Non-Null Count  Dtype  \n",
      "---  ------               --------------  -----  \n",
      " 0   Education            2216 non-null   int64  \n",
      " 1   Income               2216 non-null   float64\n",
      " 2   Recency              2216 non-null   int64  \n",
      " 3   MntWines             2216 non-null   int64  \n",
      " 4   MntFruits            2216 non-null   int64  \n",
      " 5   MntMeatProducts      2216 non-null   int64  \n",
      " 6   MntFishProducts      2216 non-null   int64  \n",
      " 7   MntSweetProducts     2216 non-null   int64  \n",
      " 8   MntGoldProds         2216 non-null   int64  \n",
      " 9   NumDealsPurchases    2216 non-null   int64  \n",
      " 10  NumCatalogPurchases  2216 non-null   int64  \n",
      " 11  NumStorePurchases    2216 non-null   int64  \n",
      " 12  NumWebVisitsMonth    2216 non-null   int64  \n",
      " 13  AcceptedCmp2         2216 non-null   int64  \n",
      " 14  month_Customer       2216 non-null   int64  \n",
      " 15  Spending             2216 non-null   int64  \n",
      " 16  Total_Cmp            2216 non-null   int64  \n",
      " 17  Has_child            2216 non-null   int64  \n",
      " 18  MS_Couple            2216 non-null   uint8  \n",
      " 19  MS_Divorced          2216 non-null   uint8  \n",
      " 20  MS_Single            2216 non-null   uint8  \n",
      "dtypes: float64(1), int64(17), uint8(3)\n",
      "memory usage: 335.4 KB\n"
     ]
    }
   ],
   "source": [
    "X.info()"
   ]
  },
  {
   "cell_type": "code",
   "execution_count": 26,
   "metadata": {
    "id": "YosiVGCm_qLF"
   },
   "outputs": [],
   "source": [
    "#Splitting the data into Train and Test\n",
    "from sklearn.model_selection import train_test_split \n",
    "X_train, X_test, y_train, y_test = train_test_split(X, y, test_size = 0.3, random_state = 666)"
   ]
  },
  {
   "cell_type": "code",
   "execution_count": 27,
   "metadata": {
    "colab": {
     "base_uri": "https://localhost:8080/"
    },
    "id": "NUr2g174_sX8",
    "outputId": "cc5941a1-ce36-4320-881a-e3a1517a2a7c"
   },
   "outputs": [
    {
     "name": "stdout",
     "output_type": "stream",
     "text": [
      "SMOTE\n",
      "0    1314\n",
      "1     657\n",
      "Name: Response, dtype: int64\n"
     ]
    },
    {
     "name": "stderr",
     "output_type": "stream",
     "text": [
      "C:\\ProgramData\\Anaconda3\\lib\\site-packages\\imblearn\\utils\\_validation.py:586: FutureWarning: Pass sampling_strategy=0.5 as keyword args. From version 0.9 passing these as positional arguments will result in an error\n",
      "  warnings.warn(\n"
     ]
    }
   ],
   "source": [
    "from imblearn import under_sampling, over_sampling\n",
    "X_over_SMOTE, y_over_SMOTE = over_sampling.SMOTE(0.5, random_state = 666).fit_resample(X_train, y_train)\n",
    "print('SMOTE')\n",
    "print(pd.Series(y_over_SMOTE).value_counts())"
   ]
  },
  {
   "cell_type": "code",
   "execution_count": 28,
   "metadata": {
    "colab": {
     "base_uri": "https://localhost:8080/"
    },
    "id": "nqFYhVsN_vUh",
    "outputId": "c2f6bbd8-4c6c-476d-93b6-42850e6c9007"
   },
   "outputs": [
    {
     "name": "stdout",
     "output_type": "stream",
     "text": [
      "Accuracy (Test Set): 0.90\n",
      "Precision (Test Set): 0.65\n",
      "Recall (Test Set): 0.65\n",
      "F1-Score (Test Set): 0.65\n",
      "AUC: 0.94\n"
     ]
    }
   ],
   "source": [
    "from sklearn.ensemble import AdaBoostClassifier\n",
    "\n",
    "bestModel = AdaBoostClassifier(n_estimators=1500,\n",
    "                        learning_rate=0.05831578947368421,\n",
    "                        algorithm='SAMME.R',\n",
    "                        random_state=666)\n",
    "\n",
    "bestModel.fit(X_over_SMOTE,y_over_SMOTE)\n",
    "\n",
    "y_pred = bestModel.predict(X_test)\n",
    "eval_classification(bestModel, X_over_SMOTE, y_over_SMOTE, X_test, y_test)"
   ]
  },
  {
   "cell_type": "code",
   "execution_count": 29,
   "metadata": {
    "colab": {
     "base_uri": "https://localhost:8080/"
    },
    "id": "HNlsIX59_6Y8",
    "outputId": "7502f89f-a2e6-4dcd-cd03-8304165bf3e2"
   },
   "outputs": [
    {
     "name": "stdout",
     "output_type": "stream",
     "text": [
      "Train score: 0.8868594622019279\n",
      "Test score:0.8992481203007519\n"
     ]
    }
   ],
   "source": [
    "print('Train score: ' + str(bestModel.score(X_over_SMOTE, y_over_SMOTE))) #accuracy\n",
    "print('Test score:' + str(bestModel.score(X_test, y_test))) #accuracy"
   ]
  }
 ],
 "metadata": {
  "colab": {
   "collapsed_sections": [],
   "name": "Stage 3.ipynb",
   "provenance": []
  },
  "kernelspec": {
   "display_name": "Python 3 (ipykernel)",
   "language": "python",
   "name": "python3"
  },
  "language_info": {
   "codemirror_mode": {
    "name": "ipython",
    "version": 3
   },
   "file_extension": ".py",
   "mimetype": "text/x-python",
   "name": "python",
   "nbconvert_exporter": "python",
   "pygments_lexer": "ipython3",
   "version": "3.9.12"
  }
 },
 "nbformat": 4,
 "nbformat_minor": 4
}
